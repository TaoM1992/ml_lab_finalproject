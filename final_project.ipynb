{
  "nbformat": 4,
  "nbformat_minor": 0,
  "metadata": {
    "accelerator": "GPU",
    "colab": {
      "name": "final_project.ipynb",
      "provenance": [],
      "authorship_tag": "ABX9TyOb0+JP8GnV3MIwip0Ss0oG",
      "include_colab_link": true
    },
    "kernelspec": {
      "display_name": "Python 3",
      "name": "python3"
    }
  },
  "cells": [
    {
      "cell_type": "markdown",
      "metadata": {
        "id": "view-in-github",
        "colab_type": "text"
      },
      "source": [
        "<a href=\"https://colab.research.google.com/github/TaoM1992/ml_lab_finalproject/blob/main/final_project.ipynb\" target=\"_parent\"><img src=\"https://colab.research.google.com/assets/colab-badge.svg\" alt=\"Open In Colab\"/></a>"
      ]
    },
    {
      "cell_type": "markdown",
      "metadata": {
        "id": "5R6KieODzYyo"
      },
      "source": [
        "# **Machine Learning Lab Final Project**\n",
        "\n",
        "### Modeling Earthquake Damage\n"
      ]
    },
    {
      "cell_type": "code",
      "metadata": {
        "id": "B8JRSNBU-zcv"
      },
      "source": [
        "import pandas as pd\n",
        "import numpy as np\n",
        "from sklearn.preprocessing import *\n",
        "from sklearn.linear_model import LogisticRegression\n",
        "from sklearn.tree import DecisionTreeClassifier\n",
        "from sklearn.ensemble import RandomForestClassifier, ExtraTreesClassifier\n",
        "from sklearn.naive_bayes import GaussianNB\n",
        "from sklearn.neighbors       import KNeighborsClassifier\n",
        "from sklearn.pipeline import Pipeline\n",
        "from sklearn.impute import *\n",
        "# from category_encoders import *\n",
        "from sklearn.compose import *\n",
        "from sklearn.model_selection import RandomizedSearchCV\n",
        "from sklearn.decomposition   import PCA\n",
        "from sklearn.base            import BaseEstimator\n",
        "from sklearn.ensemble import StackingClassifier\n",
        "from sklearn.ensemble import GradientBoostingClassifier\n",
        "from sklearn.metrics import f1_score\n",
        "from sklearn.inspection import permutation_importance"
      ],
      "execution_count": 7,
      "outputs": []
    },
    {
      "cell_type": "markdown",
      "metadata": {
        "id": "hhAyukU0zp1C"
      },
      "source": [
        "#### Data Loading"
      ]
    },
    {
      "cell_type": "code",
      "metadata": {
        "id": "EErEfI8XC3ML"
      },
      "source": [
        "X = pd.read_csv('https://raw.githubusercontent.com/TaoM1992/ml_lab_finalproject/main/train_values.csv')\n",
        "y = pd.read_csv('https://raw.githubusercontent.com/TaoM1992/ml_lab_finalproject/main/train_labels.csv')\n",
        "y = y['damage_grade']"
      ],
      "execution_count": 14,
      "outputs": []
    },
    {
      "cell_type": "markdown",
      "metadata": {
        "id": "HyGrWGl-zwpf"
      },
      "source": [
        "#### Data Preprocessing"
      ]
    },
    {
      "cell_type": "code",
      "metadata": {
        "id": "8Lyp1AVGCBPp"
      },
      "source": [
        "# preprocessing\n",
        "categorical_columns = (X.dtypes == object)\n",
        "cnt_columns = (X.dtypes == 'int64')\n",
        "con_pipe = Pipeline([('scaler', StandardScaler())])\n",
        "cat_pipe = Pipeline([('ohe', OneHotEncoder(handle_unknown='ignore'))])\n",
        "preprocessing = ColumnTransformer([('categorical', cat_pipe, categorical_columns),\n",
        "                                   ('continuous', con_pipe, cnt_columns)])\n"
      ],
      "execution_count": null,
      "outputs": []
    },
    {
      "cell_type": "markdown",
      "metadata": {
        "id": "6yg9nmEEz1mW"
      },
      "source": [
        "#### Creating Pipeline\n",
        "Since this data has more than 250k records, in order to speed up search process I decided to randomly search within a single algorithm rather than cross different algorithms.\n",
        "\n",
        "- pipeline 1: automatic parameter tuning of RandomForestClassifier\n",
        "- pipeline 2: automatic hyperparameter tuning of ExtraTreesClassifier\n",
        "- pipeline 3: stacking the best model (with tuned hyperparameters) with GradientBoostingClassifier"
      ]
    },
    {
      "cell_type": "code",
      "metadata": {
        "id": "oY6trry7Chyi"
      },
      "source": [
        "# pipeline 1: automatic parameter tuning of RandomForestClassifier\n",
        "pipe1 = Pipeline([('preprocessing', preprocessing), \n",
        "                  ('clf', RandomForestClassifier(n_jobs=-1))])"
      ],
      "execution_count": null,
      "outputs": []
    },
    {
      "cell_type": "code",
      "metadata": {
        "id": "7d0Qd7GitHq5"
      },
      "source": [
        "# hyperparameters tuned: \n",
        "## criterion - to see whether loss function would impact the result; \n",
        "## max_features - maximum sub features selected; \n",
        "## n_estimators - to see if more trees would help; \n",
        "## max_depth - trees with higher height would get more purity; \n",
        "## oob_score - with out of bag sample as validation set normally help get better results; \n",
        "## class_weight - to take calss weight into account.\n",
        "hyperparameters1 = dict(clf__criterion = ['gini', 'entropy'],\n",
        "                      clf__max_features = ['auto', 'sqrt', 'log2'],\n",
        "                      clf__n_estimators = [50, 100, 150, 200],\n",
        "                      clf__max_depth = [20, 50, 100],\n",
        "                      clf__oob_score = [False, True],\n",
        "                      clf__class_weight = ['balanced', 'balanced_subsample', None])"
      ],
      "execution_count": 5,
      "outputs": []
    },
    {
      "cell_type": "code",
      "metadata": {
        "id": "8gSIvp00Fj6e"
      },
      "source": [
        "clf_rand1 = RandomizedSearchCV(estimator=pipe1,\n",
        "                              param_distributions=hyperparameters1,\n",
        "                              n_iter=20,\n",
        "                              cv=5,\n",
        "                              n_jobs=-1,\n",
        "                              verbose=1)"
      ],
      "execution_count": null,
      "outputs": []
    },
    {
      "cell_type": "markdown",
      "metadata": {
        "id": "yIQPPxBAnBDt"
      },
      "source": [
        "##### Metric for model evaluation: F1 micro averaged score\n",
        "The reason why I used f1 score is because I want to emphasize both recall and precision. Although the target variable in this data is not very imbalanced (class 1: 10%, class 2: 57%, class 3: 33%), I still want to aggregate the contributions of all classes to compute the average metric, and micro averaged f1 score can handle this because it takes sample number of each class into account. "
      ]
    },
    {
      "cell_type": "code",
      "metadata": {
        "colab": {
          "background_save": true,
          "base_uri": "https://localhost:8080/"
        },
        "id": "CLXBt37zF1Jp",
        "outputId": "306dabcb-a638-45be-e085-4193239e50d7"
      },
      "source": [
        "from sklearn.model_selection import train_test_split\n",
        "X_train, X_val, y_train, y_val = train_test_split(X, y, random_state=999)\n",
        "best_model1 = clf_rand1.fit(X_train, y_train)\n",
        "print(clf_rand1.best_estimator_.get_params()['clf'])\n",
        "pred1 = best_model1.best_estimator_.predict(X_val)\n",
        "f1_score(y_val, pred1, average='micro')"
      ],
      "execution_count": null,
      "outputs": [
        {
          "output_type": "stream",
          "text": [
            "Fitting 5 folds for each of 25 candidates, totalling 125 fits\n"
          ],
          "name": "stdout"
        },
        {
          "output_type": "stream",
          "text": [
            "[Parallel(n_jobs=-1)]: Using backend LokyBackend with 2 concurrent workers.\n",
            "/usr/local/lib/python3.7/dist-packages/joblib/externals/loky/process_executor.py:691: UserWarning: A worker stopped while some jobs were given to the executor. This can be caused by a too short worker timeout or by a memory leak.\n",
            "  \"timeout or by a memory leak.\", UserWarning\n",
            "[Parallel(n_jobs=-1)]: Done  46 tasks      | elapsed: 47.7min\n",
            "[Parallel(n_jobs=-1)]: Done 125 out of 125 | elapsed: 122.1min finished\n"
          ],
          "name": "stderr"
        },
        {
          "output_type": "stream",
          "text": [
            "RandomForestClassifier(bootstrap=True, ccp_alpha=0.0, class_weight=None,\n",
            "                       criterion='entropy', max_depth=None, max_features='sqrt',\n",
            "                       max_leaf_nodes=None, max_samples=None,\n",
            "                       min_impurity_decrease=0.0, min_impurity_split=None,\n",
            "                       min_samples_leaf=1, min_samples_split=2,\n",
            "                       min_weight_fraction_leaf=0.0, n_estimators=150,\n",
            "                       n_jobs=-1, oob_score=True, random_state=None, verbose=0,\n",
            "                       warm_start=False)\n"
          ],
          "name": "stdout"
        },
        {
          "output_type": "execute_result",
          "data": {
            "text/plain": [
              "0.7123605163389665"
            ]
          },
          "metadata": {
            "tags": []
          },
          "execution_count": 0
        }
      ]
    },
    {
      "cell_type": "code",
      "metadata": {
        "colab": {
          "background_save": true
        },
        "id": "Mw3PsaKzGFv3"
      },
      "source": [
        "# pipeline 2: automatic parameter tuning of ExtraTreesClassifier\n",
        "pipe2 = Pipeline([('preprocessing', preprocessing), \n",
        "                  ('clf', ExtraTreesClassifier(n_jobs=-1))])"
      ],
      "execution_count": null,
      "outputs": []
    },
    {
      "cell_type": "code",
      "metadata": {
        "id": "wmIzrJ1Mui4f"
      },
      "source": [
        "# hyperparameters tuned: \n",
        "## criterion - to see whether loss function would impact the result; \n",
        "## max_features - maximum sub features selected; \n",
        "## n_estimators - to see if more trees would help; \n",
        "## max_leaf_nodes - to see if more leaf nodes would help, normally more leaf nodes help impurity.\n",
        "## max_depth - trees with higher height would get more impurity; \n",
        "## bootstrap - I want to see if more randomness would help the results.\n",
        "## oob_score - with out of bag sample as validation set normally help get better results; \n",
        "## class_weight - to take calss weight into account.\n",
        "hyperparameters2 = dict(clf__criterion = ['gini', 'entropy'],\n",
        "                        clf__max_features = ['auto', 'sqrt', 'log2'],\n",
        "                        clf__n_estimators = [50, 100, 150, 200],\n",
        "                        clf__max_leaf_nodes = [50, 100, 150, 200],\n",
        "                        clf__max_depth = [20, 50],\n",
        "                        clf__bootstrap = [False, True],\n",
        "                        clf__oob_score = [False, True],\n",
        "                        clf__class_weight = ['balanced', 'balanced_subsample', None])"
      ],
      "execution_count": 6,
      "outputs": []
    },
    {
      "cell_type": "code",
      "metadata": {
        "id": "MvxEYeGOvSid"
      },
      "source": [
        "clf_rand2 = RandomizedSearchCV(estimator=pipe2,\n",
        "                              param_distributions=hyperparameters2,\n",
        "                              n_iter=25,\n",
        "                              cv=5,\n",
        "                              n_jobs=-1,\n",
        "                              verbose=1)"
      ],
      "execution_count": null,
      "outputs": []
    },
    {
      "cell_type": "code",
      "metadata": {
        "colab": {
          "base_uri": "https://localhost:8080/"
        },
        "id": "r-w9RQ4qvQOS",
        "outputId": "9ddd39a0-021a-4bd6-80ad-e78848ab8cdc"
      },
      "source": [
        "best_model2 = clf_rand2.fit(X_train, y_train)\n",
        "print(clf_rand2.best_estimator_.get_params()['clf'])\n",
        "pred2 = best_model2.best_estimator_.predict(X_val)\n",
        "f1_score(y_val, pred2, average='micro')"
      ],
      "execution_count": 14,
      "outputs": [
        {
          "output_type": "stream",
          "text": [
            "Fitting 5 folds for each of 25 candidates, totalling 125 fits\n"
          ],
          "name": "stdout"
        },
        {
          "output_type": "stream",
          "text": [
            "[Parallel(n_jobs=-1)]: Using backend LokyBackend with 2 concurrent workers.\n",
            "[Parallel(n_jobs=-1)]: Done  46 tasks      | elapsed: 12.4min\n",
            "[Parallel(n_jobs=-1)]: Done 125 out of 125 | elapsed: 34.2min finished\n"
          ],
          "name": "stderr"
        },
        {
          "output_type": "stream",
          "text": [
            "ExtraTreesClassifier(bootstrap=True, ccp_alpha=0.0, class_weight=None,\n",
            "                     criterion='gini', max_depth=50, max_features='sqrt',\n",
            "                     max_leaf_nodes=150, max_samples=None,\n",
            "                     min_impurity_decrease=0.0, min_impurity_split=None,\n",
            "                     min_samples_leaf=1, min_samples_split=2,\n",
            "                     min_weight_fraction_leaf=0.0, n_estimators=150, n_jobs=-1,\n",
            "                     oob_score=True, random_state=None, verbose=0,\n",
            "                     warm_start=False)\n"
          ],
          "name": "stdout"
        },
        {
          "output_type": "execute_result",
          "data": {
            "text/plain": [
              "0.6135439210449571"
            ]
          },
          "metadata": {
            "tags": []
          },
          "execution_count": 14
        }
      ]
    },
    {
      "cell_type": "markdown",
      "metadata": {
        "id": "p9zA_IyqoLPB"
      },
      "source": [
        "We can observe that ExtraTreesClassifier performed worse than RandomForestClassifier in this case."
      ]
    },
    {
      "cell_type": "code",
      "metadata": {
        "id": "sCJyTG_gDcqg"
      },
      "source": [
        "# stacking best estimator with GradientBoosting\n",
        "estimators = [('rf', clf_rand1.best_estimator_.get_params()['clf'])]\n",
        "final_estimator = GradientBoostingClassifier()\n",
        "classifier = StackingClassifier(estimators=estimators,\n",
        "                        final_estimator=final_estimator)"
      ],
      "execution_count": null,
      "outputs": []
    },
    {
      "cell_type": "code",
      "metadata": {
        "id": "4ZLgsIlcvbwO"
      },
      "source": [
        "# pipeline 3: stacking different estimators\n",
        "pipe3 = Pipeline([('preprocessing', preprocessing), \n",
        "                  ('clf', classifier)])"
      ],
      "execution_count": 26,
      "outputs": []
    },
    {
      "cell_type": "code",
      "metadata": {
        "id": "RHq62oJLwLJa",
        "colab": {
          "base_uri": "https://localhost:8080/"
        },
        "outputId": "9fcdaf69-e5b5-4d37-d360-dff3f5df660b"
      },
      "source": [
        "pipe3.fit(X_train, y_train)\n",
        "pred3 = pipe3.predict(X_val)\n",
        "f1_score(y_val, pred3, average='micro')"
      ],
      "execution_count": 27,
      "outputs": [
        {
          "output_type": "execute_result",
          "data": {
            "text/plain": [
              "0.7121609798775154"
            ]
          },
          "metadata": {
            "tags": []
          },
          "execution_count": 27
        }
      ]
    },
    {
      "cell_type": "markdown",
      "metadata": {
        "id": "GfHCV5mrxRvZ"
      },
      "source": [
        "It seems like stacking RandomForestClassifier with GradientBostingClassifier has similar results as using only RandomForestClassifier. However we prefer simpler model."
      ]
    },
    {
      "cell_type": "code",
      "metadata": {
        "id": "b7q8jlCfwu9d"
      },
      "source": [
        "# pipeline 4: best model + PCA\n",
        "pipe4 = Pipeline([('preprocessing', preprocessing), \n",
        "                  ('PCA', PCA(n_components = 'mle')),\n",
        "                  ('clf', clf_rand1.best_estimator_.get_params()['clf'])])"
      ],
      "execution_count": 21,
      "outputs": []
    },
    {
      "cell_type": "code",
      "metadata": {
        "colab": {
          "base_uri": "https://localhost:8080/"
        },
        "id": "H7J0dV7Ggh0k",
        "outputId": "320483b9-7a9e-49cf-e877-9975d76959a6"
      },
      "source": [
        "pipe4.fit(X_train, y_train)\n",
        "pred4 = pipe4.predict(X_val)\n",
        "f1_score(y_val, pred4, average='micro')"
      ],
      "execution_count": 22,
      "outputs": [
        {
          "output_type": "execute_result",
          "data": {
            "text/plain": [
              "0.6742183542846618"
            ]
          },
          "metadata": {
            "tags": []
          },
          "execution_count": 22
        }
      ]
    },
    {
      "cell_type": "markdown",
      "metadata": {
        "id": "Wawq4q_ZvACF"
      },
      "source": [
        "We can observe that PCA doesn't help much, which makes sense because it only takes important features. "
      ]
    },
    {
      "cell_type": "markdown",
      "metadata": {
        "id": "gH6pFg7OvLKI"
      },
      "source": [
        "#### Final Pipeline"
      ]
    },
    {
      "cell_type": "code",
      "metadata": {
        "id": "RR20SYBwxd7W"
      },
      "source": [
        "# final pipeline: \n",
        "best_pipe = Pipeline([('preprocessing', preprocessing), \n",
        "                      ('clf', clf_rand1.best_estimator_.get_params()['clf'])])"
      ],
      "execution_count": 23,
      "outputs": []
    },
    {
      "cell_type": "code",
      "metadata": {
        "id": "CfKgQndBx7_7",
        "colab": {
          "base_uri": "https://localhost:8080/"
        },
        "outputId": "47ea28ea-e541-4352-ebd1-4078a7b99bd6"
      },
      "source": [
        "best_pipe.fit(X_train, y_train)\n",
        "y_pred = best_pipe.predict(X_val)\n",
        "f1_score(y_val, y_pred, average='micro')"
      ],
      "execution_count": 24,
      "outputs": [
        {
          "output_type": "execute_result",
          "data": {
            "text/plain": [
              "0.7129284278061734"
            ]
          },
          "metadata": {
            "tags": []
          },
          "execution_count": 24
        }
      ]
    },
    {
      "cell_type": "markdown",
      "metadata": {
        "id": "9fQEDmM532ju"
      },
      "source": [
        "#### Confusion Matrix"
      ]
    },
    {
      "cell_type": "code",
      "metadata": {
        "colab": {
          "base_uri": "https://localhost:8080/",
          "height": 297
        },
        "id": "RLzzXzMhg8PS",
        "outputId": "e4c6ac00-eae6-44f8-926d-8202a0f70b42"
      },
      "source": [
        "from sklearn.metrics import plot_confusion_matrix\n",
        "import matplotlib.pyplot as plt\n",
        "\n",
        "disp = plot_confusion_matrix(best_pipe.fit(X_train, y_train), X_val, y_val,\n",
        "                             cmap=plt.cm.BuGn)\n",
        "disp.ax_.set_title('Confusion Matrix', fontsize = 15)\n",
        "plt.show()"
      ],
      "execution_count": 28,
      "outputs": [
        {
          "output_type": "display_data",
          "data": {
            "image/png": "[encoded data removed]",
            "text/plain": [
              "<Figure size 432x288 with 2 Axes>"
            ]
          },
          "metadata": {
            "tags": [],
            "needs_background": "light"
          }
        }
      ]
    },
    {
      "cell_type": "markdown",
      "metadata": {
        "id": "Cel4QiU93Bu4"
      },
      "source": [
        "- Conclusion: the best model predict the medium damage the best, however it predict badly the low damage. It makes sense because in real life low damage is harder to identify comparing to medium and high damge. "
      ]
    },
    {
      "cell_type": "markdown",
      "metadata": {
        "id": "PIQLd6ez37E1"
      },
      "source": [
        "#### Feature Importance"
      ]
    },
    {
      "cell_type": "code",
      "metadata": {
        "id": "B964mnprxkSx",
        "colab": {
          "base_uri": "https://localhost:8080/"
        },
        "outputId": "cc4e8897-9910-4024-b50c-3a9965758318"
      },
      "source": [
        "# feature importance\n",
        "model = best_pipe.fit(X_train, y_train)\n",
        "imp = permutation_importance(model, \n",
        "                           X_val, y_val, \n",
        "                           n_repeats=30,\n",
        "                           random_state=42)\n",
        "\n",
        "for i in imp.importances_mean.argsort()[::-1]:\n",
        "    print(f\"{X.columns[i]:<8}\"\n",
        "          f\"{imp.importances_mean[i]:.3f}\"\n",
        "          f\" ± {imp.importances_std[i]:.3f}\")"
      ],
      "execution_count": 31,
      "outputs": [
        {
          "output_type": "stream",
          "text": [
            "geo_level_1_id0.116 ± 0.001\n",
            "geo_level_2_id0.031 ± 0.001\n",
            "has_superstructure_mud_mortar_stone0.022 ± 0.001\n",
            "foundation_type0.019 ± 0.001\n",
            "other_floor_type0.018 ± 0.001\n",
            "roof_type0.016 ± 0.001\n",
            "geo_level_3_id0.015 ± 0.001\n",
            "ground_floor_type0.015 ± 0.001\n",
            "height_percentage0.013 ± 0.001\n",
            "age     0.011 ± 0.001\n",
            "has_superstructure_timber0.011 ± 0.001\n",
            "count_floors_pre_eq0.010 ± 0.001\n",
            "area_percentage0.009 ± 0.001\n",
            "position0.005 ± 0.001\n",
            "has_superstructure_cement_mortar_brick0.005 ± 0.000\n",
            "land_surface_condition0.005 ± 0.001\n",
            "has_superstructure_bamboo0.003 ± 0.000\n",
            "has_superstructure_stone_flag0.003 ± 0.000\n",
            "has_superstructure_adobe_mud0.002 ± 0.000\n",
            "has_superstructure_mud_mortar_brick0.002 ± 0.000\n",
            "has_superstructure_rc_non_engineered0.002 ± 0.000\n",
            "count_families0.001 ± 0.001\n",
            "plan_configuration0.001 ± 0.000\n",
            "has_secondary_use0.001 ± 0.000\n",
            "legal_ownership_status0.001 ± 0.000\n",
            "has_superstructure_cement_mortar_stone0.001 ± 0.000\n",
            "has_secondary_use_agriculture0.001 ± 0.000\n",
            "building_id0.001 ± 0.001\n",
            "has_superstructure_other0.000 ± 0.000\n",
            "has_superstructure_rc_engineered0.000 ± 0.000\n",
            "has_secondary_use_hotel0.000 ± 0.000\n",
            "has_secondary_use_rental0.000 ± 0.000\n",
            "has_secondary_use_school0.000 ± 0.000\n",
            "has_secondary_use_industry0.000 ± 0.000\n",
            "has_secondary_use_other0.000 ± 0.000\n",
            "has_secondary_use_use_police0.000 ± 0.000\n",
            "has_secondary_use_gov_office-0.000 ± 0.000\n",
            "has_secondary_use_health_post-0.000 ± 0.000\n",
            "has_secondary_use_institution-0.000 ± 0.000\n"
          ],
          "name": "stdout"
        }
      ]
    },
    {
      "cell_type": "markdown",
      "metadata": {
        "id": "AnanhIkp3ol4"
      },
      "source": [
        "Obviously the geo_level_1_id and geo_level_2_id are the most two important features to predict target variables. These two features are geographic region in which building exists, from largest (level 1) to most specific sub-region (level 3). This explains that geographic information has great impact on predicting earthquake damage level. "
      ]
    }
  ]
}